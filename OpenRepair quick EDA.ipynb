{
 "cells": [
  {
   "attachments": {},
   "cell_type": "markdown",
   "id": "8ccb776b-ff55-4bc0-a960-3f5df8ebbf97",
   "metadata": {},
   "source": [
    "Data from https://openrepair.org/open-data/downloads/\n",
    "\n",
    "(Source: https://openrepair.org/news/open-repair-alliance-dataset-increases-to-81000-records-of-community-repair/)"
   ]
  },
  {
   "cell_type": "code",
   "execution_count": 4,
   "id": "06366f85-2df0-4ee8-931a-f8d03f3161dc",
   "metadata": {
    "tags": []
   },
   "outputs": [
    {
     "data": {
      "text/plain": [
       "polars.config.Config"
      ]
     },
     "execution_count": 4,
     "metadata": {},
     "output_type": "execute_result"
    }
   ],
   "source": [
    "import polars as pl\n",
    "\n",
    "pl.Config.set_fmt_str_lengths(100)"
   ]
  },
  {
   "cell_type": "code",
   "execution_count": 5,
   "id": "4c3a5e8f",
   "metadata": {},
   "outputs": [],
   "source": [
    "from kedro.config import TemplatedConfigLoader\n",
    "from kedro.io import DataCatalog"
   ]
  },
  {
   "cell_type": "code",
   "execution_count": 6,
   "id": "58323fca",
   "metadata": {},
   "outputs": [
    {
     "data": {
      "text/plain": [
       "TemplatedConfigLoader(conf_source=conf, env=None, config_patterns={'catalog': ['catalog*', 'catalog*/**', '**/catalog*'], 'parameters': ['parameters*', 'parameters*/**', '**/parameters*'], 'credentials': ['credentials*', 'credentials*/**', '**/credentials*'], 'logging': ['logging*', 'logging*/**', '**/logging*']})"
      ]
     },
     "execution_count": 6,
     "metadata": {},
     "output_type": "execute_result"
    }
   ],
   "source": [
    "template_variables= {\n",
    "    \"pl_Float64\": pl.Float64,\n",
    "    \"pl_Utf8\": pl.Utf8,\n",
    "}\n",
    "\n",
    "config_loader = TemplatedConfigLoader(\"conf\",globals_dict=template_variables)\n",
    "config_loader"
   ]
  },
  {
   "cell_type": "code",
   "execution_count": 15,
   "id": "408c7c09",
   "metadata": {},
   "outputs": [
    {
     "data": {
      "text/plain": [
       "{'openrepair-0_3-event-raw': {'type': 'polars.CSVDataSet',\n",
       "  'filepath': 'data/01_raw/OpenRepairData_v0.3_aggregate_202210.csv',\n",
       "  'load_args': {'dtypes': {'product_age': Float64, 'group_identifier': Utf8},\n",
       "   'try_parse_dates': True}},\n",
       " 'openrepair-0_3-categories': {'type': 'polars.CSVDataSet',\n",
       "  'filepath': 'data/01_raw/OpenRepairData_v0.3_Product_Categories.csv'}}"
      ]
     },
     "execution_count": 15,
     "metadata": {},
     "output_type": "execute_result"
    }
   ],
   "source": [
    "catalog_conf = config_loader.get(\"catalog.yml\")\n",
    "catalog_conf"
   ]
  },
  {
   "cell_type": "code",
   "execution_count": 16,
   "id": "4bac3804",
   "metadata": {},
   "outputs": [
    {
     "data": {
      "text/plain": [
       "dict"
      ]
     },
     "execution_count": 16,
     "metadata": {},
     "output_type": "execute_result"
    }
   ],
   "source": [
    "# catalog_conf is just a dict, not a polar object\n",
    "type(catalog_conf)"
   ]
  },
  {
   "cell_type": "code",
   "execution_count": 17,
   "id": "6ed614f0",
   "metadata": {},
   "outputs": [
    {
     "name": "stderr",
     "output_type": "stream",
     "text": [
      "/home/gitpod/.pyenv/versions/3.11.3/lib/python3.11/site-packages/lazy_loader/__init__.py:78: KedroDeprecationWarning: 'CSVDataSet' has been renamed to 'CSVDataset', and the alias will be removed in Kedro-Datasets 2.0.0\n",
      "  attr = getattr(submod, name)\n"
     ]
    },
    {
     "data": {
      "text/plain": [
       "<kedro.io.data_catalog.DataCatalog at 0x7f4435aa8790>"
      ]
     },
     "execution_count": 17,
     "metadata": {},
     "output_type": "execute_result"
    }
   ],
   "source": [
    "catalog = DataCatalog.from_config(catalog_conf)\n",
    "catalog"
   ]
  },
  {
   "cell_type": "code",
   "execution_count": 20,
   "id": "9c5e4af0",
   "metadata": {},
   "outputs": [
    {
     "data": {
      "text/html": [
       "<div><style>\n",
       ".dataframe > thead > tr,\n",
       ".dataframe > tbody > tr {\n",
       "  text-align: right;\n",
       "  white-space: pre-wrap;\n",
       "}\n",
       "</style>\n",
       "<small>shape: (5, 14)</small><table border=\"1\" class=\"dataframe\"><thead><tr><th>id</th><th>data_provider</th><th>country</th><th>partner_product_category</th><th>product_category</th><th>product_category_id</th><th>brand</th><th>year_of_manufacture</th><th>product_age</th><th>repair_status</th><th>repair_barrier_if_end_of_life</th><th>group_identifier</th><th>event_date</th><th>problem</th></tr><tr><td>str</td><td>str</td><td>str</td><td>str</td><td>str</td><td>i64</td><td>str</td><td>i64</td><td>f64</td><td>str</td><td>str</td><td>str</td><td>date</td><td>str</td></tr></thead><tbody><tr><td>&quot;anstiftung_2749&quot;</td><td>&quot;anstiftung&quot;</td><td>&quot;DEU&quot;</td><td>&quot;Elektro divers ~ Nähmaschine&quot;</td><td>&quot;Sewing machine&quot;</td><td>27</td><td>&quot;Unknown&quot;</td><td>null</td><td>null</td><td>&quot;Repairable&quot;</td><td>null</td><td>&quot;5073&quot;</td><td>2012-06-20</td><td>&quot;Funktionierte nicht mehr. Fehler und Lösung nicht dokumentiert.&quot;</td></tr><tr><td>&quot;anstiftung_2750&quot;</td><td>&quot;anstiftung&quot;</td><td>&quot;DEU&quot;</td><td>&quot;Computer ~ Laptop&quot;</td><td>&quot;Laptop&quot;</td><td>16</td><td>&quot;Unknown&quot;</td><td>null</td><td>null</td><td>&quot;Repairable&quot;</td><td>null</td><td>&quot;5073&quot;</td><td>2012-06-20</td><td>&quot;Wurde schnell heiß. Der Lüfter war sehr verschmutzt, wurde gereinigt. Das nächste Mal müssen wir no…</td></tr><tr><td>&quot;anstiftung_2746&quot;</td><td>&quot;anstiftung&quot;</td><td>&quot;DEU&quot;</td><td>&quot;Computer ~ Drucker&quot;</td><td>&quot;Printer/scanner&quot;</td><td>25</td><td>&quot;Unknown&quot;</td><td>null</td><td>null</td><td>&quot;Fixed&quot;</td><td>null</td><td>&quot;5073&quot;</td><td>2012-06-20</td><td>&quot;Funktionierte nicht mehr. Fehler und Lösung nicht dokumentiert.&quot;</td></tr><tr><td>&quot;anstiftung_2747&quot;</td><td>&quot;anstiftung&quot;</td><td>&quot;DEU&quot;</td><td>&quot;Unterhaltungselektronik ~ Kopfhörer&quot;</td><td>&quot;Headphones&quot;</td><td>11</td><td>&quot;Unknown&quot;</td><td>null</td><td>null</td><td>&quot;Fixed&quot;</td><td>null</td><td>&quot;5073&quot;</td><td>2012-06-20</td><td>&quot;Funktionierte nicht mehr. Fehler und Lösung nicht dokumentiert.&quot;</td></tr><tr><td>&quot;anstiftung_2742&quot;</td><td>&quot;anstiftung&quot;</td><td>&quot;DEU&quot;</td><td>&quot;Haushaltsgeräte ~ Spielzeug&quot;</td><td>&quot;Toy&quot;</td><td>32</td><td>&quot;Unknown&quot;</td><td>null</td><td>null</td><td>&quot;Fixed&quot;</td><td>null</td><td>&quot;5073&quot;</td><td>2012-09-19</td><td>&quot;Die Beine der Puppe waren ab. Sie waren mit Fäden an der Hüfte befestigt, damit sie sich auf drehen…</td></tr></tbody></table></div>"
      ],
      "text/plain": [
       "shape: (5, 14)\n",
       "┌────────────┬───────────┬─────────┬───────────┬───┬───────────┬───────────┬───────────┬───────────┐\n",
       "│ id         ┆ data_prov ┆ country ┆ partner_p ┆ … ┆ repair_ba ┆ group_ide ┆ event_dat ┆ problem   │\n",
       "│ ---        ┆ ider      ┆ ---     ┆ roduct_ca ┆   ┆ rrier_if_ ┆ ntifier   ┆ e         ┆ ---       │\n",
       "│ str        ┆ ---       ┆ str     ┆ tegory    ┆   ┆ end_of_li ┆ ---       ┆ ---       ┆ str       │\n",
       "│            ┆ str       ┆         ┆ ---       ┆   ┆ fe        ┆ str       ┆ date      ┆           │\n",
       "│            ┆           ┆         ┆ str       ┆   ┆ ---       ┆           ┆           ┆           │\n",
       "│            ┆           ┆         ┆           ┆   ┆ str       ┆           ┆           ┆           │\n",
       "╞════════════╪═══════════╪═════════╪═══════════╪═══╪═══════════╪═══════════╪═══════════╪═══════════╡\n",
       "│ anstiftung ┆ anstiftun ┆ DEU     ┆ Elektro   ┆ … ┆ null      ┆ 5073      ┆ 2012-06-2 ┆ Funktioni │\n",
       "│ _2749      ┆ g         ┆         ┆ divers ~  ┆   ┆           ┆           ┆ 0         ┆ erte      │\n",
       "│            ┆           ┆         ┆ Nähmaschi ┆   ┆           ┆           ┆           ┆ nicht     │\n",
       "│            ┆           ┆         ┆ ne        ┆   ┆           ┆           ┆           ┆ mehr.     │\n",
       "│            ┆           ┆         ┆           ┆   ┆           ┆           ┆           ┆ Fehler    │\n",
       "│            ┆           ┆         ┆           ┆   ┆           ┆           ┆           ┆ und       │\n",
       "│            ┆           ┆         ┆           ┆   ┆           ┆           ┆           ┆ Lösung    │\n",
       "│            ┆           ┆         ┆           ┆   ┆           ┆           ┆           ┆ nicht dok │\n",
       "│            ┆           ┆         ┆           ┆   ┆           ┆           ┆           ┆ umentiert │\n",
       "│            ┆           ┆         ┆           ┆   ┆           ┆           ┆           ┆ .         │\n",
       "│ anstiftung ┆ anstiftun ┆ DEU     ┆ Computer  ┆ … ┆ null      ┆ 5073      ┆ 2012-06-2 ┆ Wurde     │\n",
       "│ _2750      ┆ g         ┆         ┆ ~ Laptop  ┆   ┆           ┆           ┆ 0         ┆ schnell   │\n",
       "│            ┆           ┆         ┆           ┆   ┆           ┆           ┆           ┆ heiß. Der │\n",
       "│            ┆           ┆         ┆           ┆   ┆           ┆           ┆           ┆ Lüfter    │\n",
       "│            ┆           ┆         ┆           ┆   ┆           ┆           ┆           ┆ war sehr  │\n",
       "│            ┆           ┆         ┆           ┆   ┆           ┆           ┆           ┆ verschmut │\n",
       "│            ┆           ┆         ┆           ┆   ┆           ┆           ┆           ┆ zt, wurde │\n",
       "│            ┆           ┆         ┆           ┆   ┆           ┆           ┆           ┆ gereinigt │\n",
       "│            ┆           ┆         ┆           ┆   ┆           ┆           ┆           ┆ . Das     │\n",
       "│            ┆           ┆         ┆           ┆   ┆           ┆           ┆           ┆ nächste   │\n",
       "│            ┆           ┆         ┆           ┆   ┆           ┆           ┆           ┆ Mal       │\n",
       "│            ┆           ┆         ┆           ┆   ┆           ┆           ┆           ┆ müssen    │\n",
       "│            ┆           ┆         ┆           ┆   ┆           ┆           ┆           ┆ wir noc…  │\n",
       "│ anstiftung ┆ anstiftun ┆ DEU     ┆ Computer  ┆ … ┆ null      ┆ 5073      ┆ 2012-06-2 ┆ Funktioni │\n",
       "│ _2746      ┆ g         ┆         ┆ ~ Drucker ┆   ┆           ┆           ┆ 0         ┆ erte      │\n",
       "│            ┆           ┆         ┆           ┆   ┆           ┆           ┆           ┆ nicht     │\n",
       "│            ┆           ┆         ┆           ┆   ┆           ┆           ┆           ┆ mehr.     │\n",
       "│            ┆           ┆         ┆           ┆   ┆           ┆           ┆           ┆ Fehler    │\n",
       "│            ┆           ┆         ┆           ┆   ┆           ┆           ┆           ┆ und       │\n",
       "│            ┆           ┆         ┆           ┆   ┆           ┆           ┆           ┆ Lösung    │\n",
       "│            ┆           ┆         ┆           ┆   ┆           ┆           ┆           ┆ nicht dok │\n",
       "│            ┆           ┆         ┆           ┆   ┆           ┆           ┆           ┆ umentiert │\n",
       "│            ┆           ┆         ┆           ┆   ┆           ┆           ┆           ┆ .         │\n",
       "│ anstiftung ┆ anstiftun ┆ DEU     ┆ Unterhalt ┆ … ┆ null      ┆ 5073      ┆ 2012-06-2 ┆ Funktioni │\n",
       "│ _2747      ┆ g         ┆         ┆ ungselekt ┆   ┆           ┆           ┆ 0         ┆ erte      │\n",
       "│            ┆           ┆         ┆ ronik ~   ┆   ┆           ┆           ┆           ┆ nicht     │\n",
       "│            ┆           ┆         ┆ Kopfhörer ┆   ┆           ┆           ┆           ┆ mehr.     │\n",
       "│            ┆           ┆         ┆           ┆   ┆           ┆           ┆           ┆ Fehler    │\n",
       "│            ┆           ┆         ┆           ┆   ┆           ┆           ┆           ┆ und       │\n",
       "│            ┆           ┆         ┆           ┆   ┆           ┆           ┆           ┆ Lösung    │\n",
       "│            ┆           ┆         ┆           ┆   ┆           ┆           ┆           ┆ nicht dok │\n",
       "│            ┆           ┆         ┆           ┆   ┆           ┆           ┆           ┆ umentiert │\n",
       "│            ┆           ┆         ┆           ┆   ┆           ┆           ┆           ┆ .         │\n",
       "│ anstiftung ┆ anstiftun ┆ DEU     ┆ Haushalts ┆ … ┆ null      ┆ 5073      ┆ 2012-09-1 ┆ Die Beine │\n",
       "│ _2742      ┆ g         ┆         ┆ geräte ~  ┆   ┆           ┆           ┆ 9         ┆ der Puppe │\n",
       "│            ┆           ┆         ┆ Spielzeug ┆   ┆           ┆           ┆           ┆ waren ab. │\n",
       "│            ┆           ┆         ┆           ┆   ┆           ┆           ┆           ┆ Sie waren │\n",
       "│            ┆           ┆         ┆           ┆   ┆           ┆           ┆           ┆ mit Fäden │\n",
       "│            ┆           ┆         ┆           ┆   ┆           ┆           ┆           ┆ an der    │\n",
       "│            ┆           ┆         ┆           ┆   ┆           ┆           ┆           ┆ Hüfte bef │\n",
       "│            ┆           ┆         ┆           ┆   ┆           ┆           ┆           ┆ estigt,   │\n",
       "│            ┆           ┆         ┆           ┆   ┆           ┆           ┆           ┆ damit sie │\n",
       "│            ┆           ┆         ┆           ┆   ┆           ┆           ┆           ┆ sich auf  │\n",
       "│            ┆           ┆         ┆           ┆   ┆           ┆           ┆           ┆ drehen …  │\n",
       "└────────────┴───────────┴─────────┴───────────┴───┴───────────┴───────────┴───────────┴───────────┘"
      ]
     },
     "execution_count": 20,
     "metadata": {},
     "output_type": "execute_result"
    }
   ],
   "source": [
    "df = catalog.load(\"openrepair-0_3-event-raw\")\n",
    "df.head()"
   ]
  },
  {
   "cell_type": "code",
   "execution_count": 19,
   "id": "2e73fe07",
   "metadata": {},
   "outputs": [
    {
     "data": {
      "text/html": [
       "<div><style>\n",
       ".dataframe > thead > tr,\n",
       ".dataframe > tbody > tr {\n",
       "  text-align: right;\n",
       "  white-space: pre-wrap;\n",
       "}\n",
       "</style>\n",
       "<small>shape: (5, 2)</small><table border=\"1\" class=\"dataframe\"><thead><tr><th>product_category_id</th><th>product_category</th></tr><tr><td>i64</td><td>str</td></tr></thead><tbody><tr><td>1</td><td>&quot;Aircon/dehumidifier&quot;</td></tr><tr><td>2</td><td>&quot;Battery/charger/adapter&quot;</td></tr><tr><td>3</td><td>&quot;Decorative or safety lights&quot;</td></tr><tr><td>4</td><td>&quot;Desktop computer&quot;</td></tr><tr><td>5</td><td>&quot;Digital compact camera&quot;</td></tr></tbody></table></div>"
      ],
      "text/plain": [
       "shape: (5, 2)\n",
       "┌─────────────────────┬─────────────────────────────┐\n",
       "│ product_category_id ┆ product_category            │\n",
       "│ ---                 ┆ ---                         │\n",
       "│ i64                 ┆ str                         │\n",
       "╞═════════════════════╪═════════════════════════════╡\n",
       "│ 1                   ┆ Aircon/dehumidifier         │\n",
       "│ 2                   ┆ Battery/charger/adapter     │\n",
       "│ 3                   ┆ Decorative or safety lights │\n",
       "│ 4                   ┆ Desktop computer            │\n",
       "│ 5                   ┆ Digital compact camera      │\n",
       "└─────────────────────┴─────────────────────────────┘"
      ]
     },
     "execution_count": 19,
     "metadata": {},
     "output_type": "execute_result"
    }
   ],
   "source": [
    "categories = catalog.load(\"openrepair-0_3-categories\")\n",
    "categories.head()"
   ]
  },
  {
   "cell_type": "code",
   "execution_count": 6,
   "id": "d7173011",
   "metadata": {},
   "outputs": [
    {
     "data": {
      "text/plain": [
       "40"
      ]
     },
     "execution_count": 6,
     "metadata": {},
     "output_type": "execute_result"
    }
   ],
   "source": [
    "len(categories)"
   ]
  },
  {
   "cell_type": "code",
   "execution_count": 4,
   "id": "8fa36b24",
   "metadata": {},
   "outputs": [
    {
     "data": {
      "text/plain": [
       "81189"
      ]
     },
     "execution_count": 4,
     "metadata": {},
     "output_type": "execute_result"
    }
   ],
   "source": [
    "len(df)"
   ]
  },
  {
   "cell_type": "code",
   "execution_count": 5,
   "id": "ce0f51fe",
   "metadata": {},
   "outputs": [
    {
     "data": {
      "text/html": [
       "<div><style>\n",
       ".dataframe > thead > tr,\n",
       ".dataframe > tbody > tr {\n",
       "  text-align: right;\n",
       "  white-space: pre-wrap;\n",
       "}\n",
       "</style>\n",
       "<small>shape: (5, 14)</small><table border=\"1\" class=\"dataframe\"><thead><tr><th>id</th><th>data_provider</th><th>country</th><th>partner_product_category</th><th>product_category_id</th><th>brand</th><th>year_of_manufacture</th><th>product_age</th><th>repair_status</th><th>repair_barrier_if_end_of_life</th><th>group_identifier</th><th>event_date</th><th>problem</th><th>product_category</th></tr><tr><td>str</td><td>str</td><td>str</td><td>str</td><td>i64</td><td>str</td><td>i64</td><td>f64</td><td>str</td><td>str</td><td>str</td><td>date</td><td>str</td><td>str</td></tr></thead><tbody><tr><td>&quot;anstiftung_2749&quot;</td><td>&quot;anstiftung&quot;</td><td>&quot;DEU&quot;</td><td>&quot;Elektro divers ~ Nähmaschine&quot;</td><td>27</td><td>&quot;Unknown&quot;</td><td>null</td><td>null</td><td>&quot;Repairable&quot;</td><td>null</td><td>&quot;5073&quot;</td><td>2012-06-20</td><td>&quot;Funktionierte nicht mehr. Fehler und Lösung nicht dokumentiert.&quot;</td><td>&quot;Sewing machine&quot;</td></tr><tr><td>&quot;anstiftung_2750&quot;</td><td>&quot;anstiftung&quot;</td><td>&quot;DEU&quot;</td><td>&quot;Computer ~ Laptop&quot;</td><td>16</td><td>&quot;Unknown&quot;</td><td>null</td><td>null</td><td>&quot;Repairable&quot;</td><td>null</td><td>&quot;5073&quot;</td><td>2012-06-20</td><td>&quot;Wurde schnell heiß. Der Lüfter war sehr verschmutzt, wurde gereinigt. Das nächste Mal müssen wir no…</td><td>&quot;Laptop&quot;</td></tr><tr><td>&quot;anstiftung_2746&quot;</td><td>&quot;anstiftung&quot;</td><td>&quot;DEU&quot;</td><td>&quot;Computer ~ Drucker&quot;</td><td>25</td><td>&quot;Unknown&quot;</td><td>null</td><td>null</td><td>&quot;Fixed&quot;</td><td>null</td><td>&quot;5073&quot;</td><td>2012-06-20</td><td>&quot;Funktionierte nicht mehr. Fehler und Lösung nicht dokumentiert.&quot;</td><td>&quot;Printer/scanner&quot;</td></tr><tr><td>&quot;anstiftung_2747&quot;</td><td>&quot;anstiftung&quot;</td><td>&quot;DEU&quot;</td><td>&quot;Unterhaltungselektronik ~ Kopfhörer&quot;</td><td>11</td><td>&quot;Unknown&quot;</td><td>null</td><td>null</td><td>&quot;Fixed&quot;</td><td>null</td><td>&quot;5073&quot;</td><td>2012-06-20</td><td>&quot;Funktionierte nicht mehr. Fehler und Lösung nicht dokumentiert.&quot;</td><td>&quot;Headphones&quot;</td></tr><tr><td>&quot;anstiftung_2742&quot;</td><td>&quot;anstiftung&quot;</td><td>&quot;DEU&quot;</td><td>&quot;Haushaltsgeräte ~ Spielzeug&quot;</td><td>32</td><td>&quot;Unknown&quot;</td><td>null</td><td>null</td><td>&quot;Fixed&quot;</td><td>null</td><td>&quot;5073&quot;</td><td>2012-09-19</td><td>&quot;Die Beine der Puppe waren ab. Sie waren mit Fäden an der Hüfte befestigt, damit sie sich auf drehen…</td><td>&quot;Toy&quot;</td></tr></tbody></table></div>"
      ],
      "text/plain": [
       "shape: (5, 14)\n",
       "┌────────────┬───────────┬─────────┬───────────┬───┬───────────┬───────────┬───────────┬───────────┐\n",
       "│ id         ┆ data_prov ┆ country ┆ partner_p ┆ … ┆ group_ide ┆ event_dat ┆ problem   ┆ product_c │\n",
       "│ ---        ┆ ider      ┆ ---     ┆ roduct_ca ┆   ┆ ntifier   ┆ e         ┆ ---       ┆ ategory   │\n",
       "│ str        ┆ ---       ┆ str     ┆ tegory    ┆   ┆ ---       ┆ ---       ┆ str       ┆ ---       │\n",
       "│            ┆ str       ┆         ┆ ---       ┆   ┆ str       ┆ date      ┆           ┆ str       │\n",
       "│            ┆           ┆         ┆ str       ┆   ┆           ┆           ┆           ┆           │\n",
       "╞════════════╪═══════════╪═════════╪═══════════╪═══╪═══════════╪═══════════╪═══════════╪═══════════╡\n",
       "│ anstiftung ┆ anstiftun ┆ DEU     ┆ Elektro   ┆ … ┆ 5073      ┆ 2012-06-2 ┆ Funktioni ┆ Sewing    │\n",
       "│ _2749      ┆ g         ┆         ┆ divers ~  ┆   ┆           ┆ 0         ┆ erte      ┆ machine   │\n",
       "│            ┆           ┆         ┆ Nähmaschi ┆   ┆           ┆           ┆ nicht     ┆           │\n",
       "│            ┆           ┆         ┆ ne        ┆   ┆           ┆           ┆ mehr.     ┆           │\n",
       "│            ┆           ┆         ┆           ┆   ┆           ┆           ┆ Fehler    ┆           │\n",
       "│            ┆           ┆         ┆           ┆   ┆           ┆           ┆ und       ┆           │\n",
       "│            ┆           ┆         ┆           ┆   ┆           ┆           ┆ Lösung    ┆           │\n",
       "│            ┆           ┆         ┆           ┆   ┆           ┆           ┆ nicht dok ┆           │\n",
       "│            ┆           ┆         ┆           ┆   ┆           ┆           ┆ umentiert ┆           │\n",
       "│            ┆           ┆         ┆           ┆   ┆           ┆           ┆ .         ┆           │\n",
       "│ anstiftung ┆ anstiftun ┆ DEU     ┆ Computer  ┆ … ┆ 5073      ┆ 2012-06-2 ┆ Wurde     ┆ Laptop    │\n",
       "│ _2750      ┆ g         ┆         ┆ ~ Laptop  ┆   ┆           ┆ 0         ┆ schnell   ┆           │\n",
       "│            ┆           ┆         ┆           ┆   ┆           ┆           ┆ heiß. Der ┆           │\n",
       "│            ┆           ┆         ┆           ┆   ┆           ┆           ┆ Lüfter    ┆           │\n",
       "│            ┆           ┆         ┆           ┆   ┆           ┆           ┆ war sehr  ┆           │\n",
       "│            ┆           ┆         ┆           ┆   ┆           ┆           ┆ verschmut ┆           │\n",
       "│            ┆           ┆         ┆           ┆   ┆           ┆           ┆ zt, wurde ┆           │\n",
       "│            ┆           ┆         ┆           ┆   ┆           ┆           ┆ gereinigt ┆           │\n",
       "│            ┆           ┆         ┆           ┆   ┆           ┆           ┆ . Das     ┆           │\n",
       "│            ┆           ┆         ┆           ┆   ┆           ┆           ┆ nächste   ┆           │\n",
       "│            ┆           ┆         ┆           ┆   ┆           ┆           ┆ Mal       ┆           │\n",
       "│            ┆           ┆         ┆           ┆   ┆           ┆           ┆ müssen    ┆           │\n",
       "│            ┆           ┆         ┆           ┆   ┆           ┆           ┆ wir noc…  ┆           │\n",
       "│ anstiftung ┆ anstiftun ┆ DEU     ┆ Computer  ┆ … ┆ 5073      ┆ 2012-06-2 ┆ Funktioni ┆ Printer/s │\n",
       "│ _2746      ┆ g         ┆         ┆ ~ Drucker ┆   ┆           ┆ 0         ┆ erte      ┆ canner    │\n",
       "│            ┆           ┆         ┆           ┆   ┆           ┆           ┆ nicht     ┆           │\n",
       "│            ┆           ┆         ┆           ┆   ┆           ┆           ┆ mehr.     ┆           │\n",
       "│            ┆           ┆         ┆           ┆   ┆           ┆           ┆ Fehler    ┆           │\n",
       "│            ┆           ┆         ┆           ┆   ┆           ┆           ┆ und       ┆           │\n",
       "│            ┆           ┆         ┆           ┆   ┆           ┆           ┆ Lösung    ┆           │\n",
       "│            ┆           ┆         ┆           ┆   ┆           ┆           ┆ nicht dok ┆           │\n",
       "│            ┆           ┆         ┆           ┆   ┆           ┆           ┆ umentiert ┆           │\n",
       "│            ┆           ┆         ┆           ┆   ┆           ┆           ┆ .         ┆           │\n",
       "│ anstiftung ┆ anstiftun ┆ DEU     ┆ Unterhalt ┆ … ┆ 5073      ┆ 2012-06-2 ┆ Funktioni ┆ Headphone │\n",
       "│ _2747      ┆ g         ┆         ┆ ungselekt ┆   ┆           ┆ 0         ┆ erte      ┆ s         │\n",
       "│            ┆           ┆         ┆ ronik ~   ┆   ┆           ┆           ┆ nicht     ┆           │\n",
       "│            ┆           ┆         ┆ Kopfhörer ┆   ┆           ┆           ┆ mehr.     ┆           │\n",
       "│            ┆           ┆         ┆           ┆   ┆           ┆           ┆ Fehler    ┆           │\n",
       "│            ┆           ┆         ┆           ┆   ┆           ┆           ┆ und       ┆           │\n",
       "│            ┆           ┆         ┆           ┆   ┆           ┆           ┆ Lösung    ┆           │\n",
       "│            ┆           ┆         ┆           ┆   ┆           ┆           ┆ nicht dok ┆           │\n",
       "│            ┆           ┆         ┆           ┆   ┆           ┆           ┆ umentiert ┆           │\n",
       "│            ┆           ┆         ┆           ┆   ┆           ┆           ┆ .         ┆           │\n",
       "│ anstiftung ┆ anstiftun ┆ DEU     ┆ Haushalts ┆ … ┆ 5073      ┆ 2012-09-1 ┆ Die Beine ┆ Toy       │\n",
       "│ _2742      ┆ g         ┆         ┆ geräte ~  ┆   ┆           ┆ 9         ┆ der Puppe ┆           │\n",
       "│            ┆           ┆         ┆ Spielzeug ┆   ┆           ┆           ┆ waren ab. ┆           │\n",
       "│            ┆           ┆         ┆           ┆   ┆           ┆           ┆ Sie waren ┆           │\n",
       "│            ┆           ┆         ┆           ┆   ┆           ┆           ┆ mit Fäden ┆           │\n",
       "│            ┆           ┆         ┆           ┆   ┆           ┆           ┆ an der    ┆           │\n",
       "│            ┆           ┆         ┆           ┆   ┆           ┆           ┆ Hüfte bef ┆           │\n",
       "│            ┆           ┆         ┆           ┆   ┆           ┆           ┆ estigt,   ┆           │\n",
       "│            ┆           ┆         ┆           ┆   ┆           ┆           ┆ damit sie ┆           │\n",
       "│            ┆           ┆         ┆           ┆   ┆           ┆           ┆ sich auf  ┆           │\n",
       "│            ┆           ┆         ┆           ┆   ┆           ┆           ┆ drehen …  ┆           │\n",
       "└────────────┴───────────┴─────────┴───────────┴───┴───────────┴───────────┴───────────┴───────────┘"
      ]
     },
     "execution_count": 5,
     "metadata": {},
     "output_type": "execute_result"
    }
   ],
   "source": [
    "df = df.select(pl.all().exclude(\"product_category\")).join(\n",
    "    categories, on=\"product_category_id\"\n",
    ")\n",
    "df.head()"
   ]
  },
  {
   "cell_type": "code",
   "execution_count": 7,
   "id": "69293a3f",
   "metadata": {},
   "outputs": [
    {
     "data": {
      "text/plain": [
       "81189"
      ]
     },
     "execution_count": 7,
     "metadata": {},
     "output_type": "execute_result"
    }
   ],
   "source": [
    "len(df)"
   ]
  },
  {
   "cell_type": "code",
   "execution_count": 8,
   "id": "806d5f19",
   "metadata": {},
   "outputs": [
    {
     "data": {
      "text/html": [
       "<div><style>\n",
       ".dataframe > thead > tr,\n",
       ".dataframe > tbody > tr {\n",
       "  text-align: right;\n",
       "  white-space: pre-wrap;\n",
       "}\n",
       "</style>\n",
       "<small>shape: (5, 2)</small><table border=\"1\" class=\"dataframe\"><thead><tr><th>country</th><th>counts</th></tr><tr><td>str</td><td>u32</td></tr></thead><tbody><tr><td>&quot;GBR&quot;</td><td>23141</td></tr><tr><td>&quot;NLD&quot;</td><td>22986</td></tr><tr><td>&quot;DEU&quot;</td><td>10532</td></tr><tr><td>&quot;BEL&quot;</td><td>7854</td></tr><tr><td>&quot;DNK&quot;</td><td>5150</td></tr></tbody></table></div>"
      ],
      "text/plain": [
       "shape: (5, 2)\n",
       "┌─────────┬────────┐\n",
       "│ country ┆ counts │\n",
       "│ ---     ┆ ---    │\n",
       "│ str     ┆ u32    │\n",
       "╞═════════╪════════╡\n",
       "│ GBR     ┆ 23141  │\n",
       "│ NLD     ┆ 22986  │\n",
       "│ DEU     ┆ 10532  │\n",
       "│ BEL     ┆ 7854   │\n",
       "│ DNK     ┆ 5150   │\n",
       "└─────────┴────────┘"
      ]
     },
     "execution_count": 8,
     "metadata": {},
     "output_type": "execute_result"
    }
   ],
   "source": [
    "df[\"country\"].value_counts().sort(\"counts\", descending=True).head()"
   ]
  },
  {
   "cell_type": "code",
   "execution_count": 9,
   "id": "30537441",
   "metadata": {},
   "outputs": [
    {
     "data": {
      "text/html": [
       "<div><style>\n",
       ".dataframe > thead > tr,\n",
       ".dataframe > tbody > tr {\n",
       "  text-align: right;\n",
       "  white-space: pre-wrap;\n",
       "}\n",
       "</style>\n",
       "<small>shape: (10, 2)</small><table border=\"1\" class=\"dataframe\"><thead><tr><th>product_category</th><th>counts</th></tr><tr><td>str</td><td>u32</td></tr></thead><tbody><tr><td>&quot;Lamp&quot;</td><td>5524</td></tr><tr><td>&quot;Vacuum&quot;</td><td>5437</td></tr><tr><td>&quot;Laptop&quot;</td><td>5092</td></tr><tr><td>&quot;Hi-Fi separates&quot;</td><td>5015</td></tr><tr><td>&quot;Small kitchen item&quot;</td><td>4682</td></tr><tr><td>&quot;Coffee maker&quot;</td><td>4638</td></tr><tr><td>&quot;Power tool&quot;</td><td>4038</td></tr><tr><td>&quot;Portable radio&quot;</td><td>3968</td></tr><tr><td>&quot;Food processor&quot;</td><td>3363</td></tr><tr><td>&quot;Small home electrical&quot;</td><td>2766</td></tr></tbody></table></div>"
      ],
      "text/plain": [
       "shape: (10, 2)\n",
       "┌───────────────────────┬────────┐\n",
       "│ product_category      ┆ counts │\n",
       "│ ---                   ┆ ---    │\n",
       "│ str                   ┆ u32    │\n",
       "╞═══════════════════════╪════════╡\n",
       "│ Lamp                  ┆ 5524   │\n",
       "│ Vacuum                ┆ 5437   │\n",
       "│ Laptop                ┆ 5092   │\n",
       "│ Hi-Fi separates       ┆ 5015   │\n",
       "│ …                     ┆ …      │\n",
       "│ Power tool            ┆ 4038   │\n",
       "│ Portable radio        ┆ 3968   │\n",
       "│ Food processor        ┆ 3363   │\n",
       "│ Small home electrical ┆ 2766   │\n",
       "└───────────────────────┴────────┘"
      ]
     },
     "execution_count": 9,
     "metadata": {},
     "output_type": "execute_result"
    }
   ],
   "source": [
    "df[\"product_category\"].value_counts().sort(by=\"counts\", descending=True).head(10)"
   ]
  },
  {
   "attachments": {},
   "cell_type": "markdown",
   "id": "507e57c1",
   "metadata": {},
   "source": [
    "Minor correction needed for repair barrier: one part of [the standard](https://standard.openrepair.org/standard.html) specifies `\"Item too worn out\"`, the other says `\"Product too worn out\"`, but they are the same."
   ]
  },
  {
   "cell_type": "code",
   "execution_count": 10,
   "id": "8925a96c",
   "metadata": {},
   "outputs": [
    {
     "data": {
      "text/html": [
       "<div><style>\n",
       ".dataframe > thead > tr,\n",
       ".dataframe > tbody > tr {\n",
       "  text-align: right;\n",
       "  white-space: pre-wrap;\n",
       "}\n",
       "</style>\n",
       "<small>shape: (8, 2)</small><table border=\"1\" class=\"dataframe\"><thead><tr><th>repair_barrier_if_end_of_life</th><th>counts</th></tr><tr><td>str</td><td>u32</td></tr></thead><tbody><tr><td>&quot;No way to open the product&quot;</td><td>783</td></tr><tr><td>&quot;Spare parts not available&quot;</td><td>1695</td></tr><tr><td>&quot;Spare parts too expensive&quot;</td><td>700</td></tr><tr><td>null</td><td>76452</td></tr><tr><td>&quot;Lack of equipment&quot;</td><td>301</td></tr><tr><td>&quot;Repair information not available&quot;</td><td>511</td></tr><tr><td>&quot;Product too worn out&quot;</td><td>232</td></tr><tr><td>&quot;Item too worn out&quot;</td><td>515</td></tr></tbody></table></div>"
      ],
      "text/plain": [
       "shape: (8, 2)\n",
       "┌──────────────────────────────────┬────────┐\n",
       "│ repair_barrier_if_end_of_life    ┆ counts │\n",
       "│ ---                              ┆ ---    │\n",
       "│ str                              ┆ u32    │\n",
       "╞══════════════════════════════════╪════════╡\n",
       "│ No way to open the product       ┆ 783    │\n",
       "│ Spare parts not available        ┆ 1695   │\n",
       "│ Spare parts too expensive        ┆ 700    │\n",
       "│ null                             ┆ 76452  │\n",
       "│ Lack of equipment                ┆ 301    │\n",
       "│ Repair information not available ┆ 511    │\n",
       "│ Product too worn out             ┆ 232    │\n",
       "│ Item too worn out                ┆ 515    │\n",
       "└──────────────────────────────────┴────────┘"
      ]
     },
     "execution_count": 10,
     "metadata": {},
     "output_type": "execute_result"
    }
   ],
   "source": [
    "df[\"repair_barrier_if_end_of_life\"].value_counts()"
   ]
  },
  {
   "cell_type": "code",
   "execution_count": 11,
   "id": "aff1a32c",
   "metadata": {},
   "outputs": [
    {
     "name": "stderr",
     "output_type": "stream",
     "text": [
      "/tmp/ipykernel_4039/1093419570.py:2: DeprecationWarning: `map_dict` is deprecated. It has been renamed to `replace`. The default behavior has changed to keep any values not present in the mapping unchanged. Pass `default=None` to keep existing behavior.\n",
      "  pl.col(\"repair_barrier_if_end_of_life\").map_dict(\n"
     ]
    },
    {
     "data": {
      "text/html": [
       "<div><style>\n",
       ".dataframe > thead > tr,\n",
       ".dataframe > tbody > tr {\n",
       "  text-align: right;\n",
       "  white-space: pre-wrap;\n",
       "}\n",
       "</style>\n",
       "<small>shape: (7, 2)</small><table border=\"1\" class=\"dataframe\"><thead><tr><th>repair_barrier_if_end_of_life</th><th>counts</th></tr><tr><td>str</td><td>u32</td></tr></thead><tbody><tr><td>&quot;Spare parts too expensive&quot;</td><td>700</td></tr><tr><td>&quot;Repair information not available&quot;</td><td>511</td></tr><tr><td>null</td><td>76452</td></tr><tr><td>&quot;Spare parts not available&quot;</td><td>1695</td></tr><tr><td>&quot;Product too worn out&quot;</td><td>747</td></tr><tr><td>&quot;No way to open the product&quot;</td><td>783</td></tr><tr><td>&quot;Lack of equipment&quot;</td><td>301</td></tr></tbody></table></div>"
      ],
      "text/plain": [
       "shape: (7, 2)\n",
       "┌──────────────────────────────────┬────────┐\n",
       "│ repair_barrier_if_end_of_life    ┆ counts │\n",
       "│ ---                              ┆ ---    │\n",
       "│ str                              ┆ u32    │\n",
       "╞══════════════════════════════════╪════════╡\n",
       "│ Spare parts too expensive        ┆ 700    │\n",
       "│ Repair information not available ┆ 511    │\n",
       "│ null                             ┆ 76452  │\n",
       "│ Spare parts not available        ┆ 1695   │\n",
       "│ Product too worn out             ┆ 747    │\n",
       "│ No way to open the product       ┆ 783    │\n",
       "│ Lack of equipment                ┆ 301    │\n",
       "└──────────────────────────────────┴────────┘"
      ]
     },
     "execution_count": 11,
     "metadata": {},
     "output_type": "execute_result"
    }
   ],
   "source": [
    "df = df.with_columns(\n",
    "    pl.col(\"repair_barrier_if_end_of_life\").map_dict(\n",
    "        {\"Item too worn out\": \"Product too worn out\"},\n",
    "        default=pl.col(\"repair_barrier_if_end_of_life\"),\n",
    "    )\n",
    ")\n",
    "df[\"repair_barrier_if_end_of_life\"].value_counts()"
   ]
  }
 ],
 "metadata": {
  "kernelspec": {
   "display_name": "Python 3 (ipykernel)",
   "language": "python",
   "name": "python3"
  },
  "language_info": {
   "codemirror_mode": {
    "name": "ipython",
    "version": 3
   },
   "file_extension": ".py",
   "mimetype": "text/x-python",
   "name": "python",
   "nbconvert_exporter": "python",
   "pygments_lexer": "ipython3",
   "version": "3.11.3"
  }
 },
 "nbformat": 4,
 "nbformat_minor": 5
}
