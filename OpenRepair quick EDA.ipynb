{
 "cells": [
  {
   "attachments": {},
   "cell_type": "markdown",
   "id": "8ccb776b-ff55-4bc0-a960-3f5df8ebbf97",
   "metadata": {},
   "source": [
    "Data from https://openrepair.org/open-data/downloads/\n",
    "\n",
    "(Source: https://openrepair.org/news/open-repair-alliance-dataset-increases-to-81000-records-of-community-repair/)"
   ]
  },
  {
   "cell_type": "code",
   "execution_count": null,
   "id": "06366f85-2df0-4ee8-931a-f8d03f3161dc",
   "metadata": {
    "tags": []
   },
   "outputs": [],
   "source": [
    "import polars as pl\n",
    "\n",
    "pl.Config.set_fmt_str_lengths(100)"
   ]
  },
  {
   "cell_type": "code",
   "execution_count": null,
   "id": "4ef998b6",
   "metadata": {},
   "outputs": [],
   "source": [
    "%load_ext kedro.ipython"
   ]
  },
  {
   "cell_type": "code",
   "execution_count": null,
   "metadata": {},
   "outputs": [],
   "source": [
    "catalog"
   ]
  },
  {
   "cell_type": "code",
   "execution_count": null,
   "id": "f3447971",
   "metadata": {},
   "outputs": [],
   "source": [
    "df = catalog.load(\"openrepair-0_3\")\n",
    "df.head()"
   ]
  },
  {
   "cell_type": "code",
   "execution_count": null,
   "id": "4a24795c",
   "metadata": {},
   "outputs": [],
   "source": [
    "gbr_events = df.filter(pl.col(\"country\") == \"GBR\")\n",
    "gbr_events.head()"
   ]
  },
  {
   "cell_type": "code",
   "execution_count": null,
   "id": "45d91410",
   "metadata": {},
   "outputs": [],
   "source": [
    "len(gbr_events)"
   ]
  },
  {
   "cell_type": "code",
   "execution_count": null,
   "id": "fff44a7f",
   "metadata": {},
   "outputs": [],
   "source": [
    "problems_gbr = list(\n",
    "    gbr_events.filter(\n",
    "        (pl.col(\"country\") == \"GBR\") \n",
    "        & (pl.col(\"repair_status\") == \"End of life\")\n",
    "    )[\"problem\"]\n",
    "    .drop_nulls()\n",
    ")\n",
    "problems_gbr"
   ]
  },
  {
   "cell_type": "code",
   "execution_count": null,
   "id": "c2cb5ad2",
   "metadata": {},
   "outputs": [],
   "source": [
    "import wordcloud\n",
    "from wordcloud import WordCloud, STOPWORDS"
   ]
  },
  {
   "cell_type": "code",
   "execution_count": null,
   "id": "80aaefe7",
   "metadata": {},
   "outputs": [],
   "source": [
    "import matplotlib as mpl\n",
    "import matplotlib.pyplot as plt"
   ]
  },
  {
   "cell_type": "code",
   "execution_count": null,
   "id": "9fa80e64",
   "metadata": {},
   "outputs": [],
   "source": [
    "import warnings\n",
    "warnings.simplefilter(\"ignore\")\n"
   ]
  },
  {
   "cell_type": "code",
   "execution_count": null,
   "id": "e540966a",
   "metadata": {},
   "outputs": [],
   "source": [
    "wordcloud = WordCloud(\n",
    "    background_color = \"white\",\n",
    "    stopwords = set(STOPWORDS),\n",
    "    collocation_threshold=1,\n",
    "    colormap = plt.cm.Dark2,\n",
    "    scale = 3,\n",
    "    random_state = 42,\n",
    ").generate(\" \".join(problems_gbr))\n",
    "\n",
    "fig, ax = plt.subplots(figsize=(10,8))\n",
    "ax.imshow(wordcloud)\n",
    "ax.axis(\"off\")"
   ]
  }
 ],
 "metadata": {
  "kernelspec": {
   "display_name": "Python 3 (ipykernel)",
   "language": "python",
   "name": "python3"
  },
  "language_info": {
   "codemirror_mode": {
    "name": "ipython",
    "version": 3
   },
   "file_extension": ".py",
   "mimetype": "text/x-python",
   "name": "python",
   "nbconvert_exporter": "python",
   "pygments_lexer": "ipython3",
   "version": "3.11.3"
  }
 },
 "nbformat": 4,
 "nbformat_minor": 5
}
